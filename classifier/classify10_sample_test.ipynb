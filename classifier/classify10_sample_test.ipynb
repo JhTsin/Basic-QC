{
 "cells": [
  {
   "cell_type": "code",
   "execution_count": 1,
   "metadata": {},
   "outputs": [],
   "source": [
    "import numpy as np\n",
    "import idx2numpy\n",
    "import matplotlib.pyplot as plt\n",
    "from tqdm import tqdm"
   ]
  },
  {
   "cell_type": "code",
   "execution_count": 2,
   "metadata": {},
   "outputs": [],
   "source": [
    "def load_mnist():\n",
    "    # 加载 MNIST 数据集\n",
    "    train_images = idx2numpy.convert_from_file(r\"..\\train-images.idx3-ubyte\")\n",
    "    train_labels = idx2numpy.convert_from_file(r\"..\\train-labels.idx1-ubyte\")\n",
    "    test_images = idx2numpy.convert_from_file(r\"..\\t10k-images.idx3-ubyte\")\n",
    "    test_labels = idx2numpy.convert_from_file(r\"..\\t10k-labels.idx1-ubyte\")\n",
    "\n",
    "    # 将图像数据转换为一维数组并归一化\n",
    "    train_images = train_images.reshape((train_images.shape[0], -1)).astype('float32') / 255\n",
    "    test_images = test_images.reshape((test_images.shape[0], -1)).astype('float32') / 255\n",
    "\n",
    "    # 将标签转换为 one-hot 编码\n",
    "    train_labels = one_hot_encode(train_labels)\n",
    "    test_labels = one_hot_encode(test_labels)\n",
    "\n",
    "    return train_images, train_labels, test_images, test_labels\n",
    "\n",
    "def plot_accuracy(train_acc, test_acc):\n",
    "    # 绘制训练准确率和测试准确率的图\n",
    "    plt.plot(train_acc, label='Train Accuracy')\n",
    "    plt.plot(test_acc, label='Test Accuracy')\n",
    "    plt.title('Accuracy over Epochs')\n",
    "    plt.xlabel('Epoch')\n",
    "    plt.ylabel('Accuracy')\n",
    "    plt.legend()\n",
    "    plt.show()\n",
    "\n",
    "def one_hot_encode(labels, num_classes=10):\n",
    "    # 将类别标签转换为 one-hot 编码格式\n",
    "    one_hot_labels = np.zeros((labels.shape[0], num_classes))\n",
    "    one_hot_labels[np.arange(labels.shape[0]), labels] = 1\n",
    "    return one_hot_labels"
   ]
  },
  {
   "cell_type": "code",
   "execution_count": 3,
   "metadata": {},
   "outputs": [],
   "source": [
    "\n",
    "class AdamOptimizer:\n",
    "    def __init__(self, learning_rate=0.001, beta1=0.9, beta2=0.999, epsilon=1e-8):\n",
    "        # 初始化Adam优化器的参数\n",
    "        self.learning_rate = learning_rate  # 设置学习率\n",
    "        self.beta1 = beta1  # 设置一阶矩估计（momentum）的衰减率\n",
    "        self.beta2 = beta2  # 设置二阶矩估计（RMSprop）的衰减率\n",
    "        self.epsilon = epsilon  # 防止除以零的小常数\n",
    "        self.t = 0  # 初始化时间步，用于偏差校正\n",
    "\n",
    "    def update_parameters(self, nn, gradients_w, gradients_b):\n",
    "        # 更新神经网络的参数\n",
    "        if not hasattr(self, 'm_w'):\n",
    "            # 如果moment向量还没有初始化，则进行初始化\n",
    "            self.m_w = [np.zeros_like(w) for w in nn.weights]  # 初始化权重的一阶矩估计\n",
    "            self.v_w = [np.zeros_like(w) for w in nn.weights]  # 初始化权重的二阶矩估计\n",
    "            self.m_b = [np.zeros_like(b) for b in nn.biases]   # 初始化偏置的一阶矩估计\n",
    "            self.v_b = [np.zeros_like(b) for b in nn.biases]   # 初始化偏置的二阶矩估计\n",
    "\n",
    "        self.t += 1  # 增加时间步\n",
    "        correction1 = 1 - self.beta1 ** self.t  # 计算一阶矩估计的偏差校正因子\n",
    "        correction2 = 1 - self.beta2 ** self.t  # 计算二阶矩估计的偏差校正因子\n",
    "\n",
    "        for i in range(len(nn.weights)):\n",
    "            # 遍历神经网络的每一层\n",
    "            self.m_w[i] *= self.beta1  # 对权重的一阶矩估计应用指数衰减\n",
    "            self.m_w[i] += (1 - self.beta1) * gradients_w[i]  # 更新权重的一阶矩估计\n",
    "            self.v_w[i] *= self.beta2  # 对权重的二阶矩估计应用指数衰减\n",
    "            self.v_w[i] += (1 - self.beta2) * np.square(gradients_w[i])  # 更新权重的二阶矩估计\n",
    "\n",
    "            m_w_corrected = self.m_w[i] / correction1  # 应用偏差校正到权重的一阶矩估计\n",
    "            v_w_corrected = self.v_w[i] / correction2  # 应用偏差校正到权重的二阶矩估计\n",
    "\n",
    "            nn.weights[i] -= self.learning_rate * m_w_corrected / (np.sqrt(v_w_corrected) + self.epsilon)  # 更新权重\n",
    "\n",
    "            self.m_b[i] *= self.beta1  # 对偏置的一阶矩估计应用指数衰减\n",
    "            self.m_b[i] += (1 - self.beta1) * gradients_b[i]  # 更新偏置的一阶矩估计\n",
    "            self.v_b[i] *= self.beta2  # 对偏置的二阶矩估计应用指数衰减\n",
    "            self.v_b[i] += (1 - self.beta2) * np.square(gradients_b[i])  # 更新偏置的二阶矩估计\n",
    "\n",
    "            m_b_corrected = self.m_b[i] / correction1  # 应用偏差校正到偏置的一阶矩估计\n",
    "            v_b_corrected = self.v_b[i] / correction2  # 应用偏差校正到偏置的二阶矩估计\n",
    "\n",
    "            nn.biases[i] -= self.learning_rate * m_b_corrected / (np.sqrt(v_b_corrected) + self.epsilon)  # 更新偏置\n"
   ]
  },
  {
   "cell_type": "code",
   "execution_count": 4,
   "metadata": {},
   "outputs": [],
   "source": [
    "class SimpleNeuralNetwork:\n",
    "    def __init__(self, layer_sizes, learning_rate, batch_size):\n",
    "        # 神经网络的构造函数\n",
    "        np.random.seed(1)  # 设置随机种子以确保结果的可重复性\n",
    "        # 初始化网络的权重，使用标准正态分布随机生成\n",
    "        self.weights = [np.random.randn(layer_sizes[i], layer_sizes[i + 1]) for i in range(len(layer_sizes) - 1)]\n",
    "        # 初始化网络的偏置，全部设置为零\n",
    "        self.biases = [np.zeros((1, layer_sizes[i + 1])) for i in range(len(layer_sizes) - 1)]\n",
    "        # 创建一个 Adam 优化器实例用于训练\n",
    "        self.optimizer = AdamOptimizer(learning_rate=learning_rate)\n",
    "        self.batch_size = batch_size\n",
    "\n",
    "    def sigmoid(self, x):\n",
    "        # Sigmoid 激活函数\n",
    "        return 1 / (1 + np.exp(-x))\n",
    "\n",
    "    def sigmoid_derivative(self, x):\n",
    "        # Sigmoid 函数的导数\n",
    "        return x * (1 - x)\n",
    "\n",
    "    def softmax(self, x):\n",
    "        # Softmax 函数，用于多分类问题的输出层\n",
    "        exp_x = np.exp(x - np.max(x, axis=1, keepdims=True))  # 防止数值溢出\n",
    "        return exp_x / np.sum(exp_x, axis=1, keepdims=True)\n",
    "\n",
    "    def fp(self, input):\n",
    "        # 神经网络的前向传播\n",
    "        activations = [input]  # 存储每层的激活值\n",
    "        # 遍历除最后一层外的每一层\n",
    "        for w, b in zip(self.weights[:-1], self.biases[:-1]):\n",
    "            # 计算下一层的激活值\n",
    "            activations.append(self.sigmoid(np.dot(activations[-1], w) + b))\n",
    "        # 计算最后一层的激活值，使用 softmax\n",
    "        activations.append(self.softmax(np.dot(activations[-1], self.weights[-1]) + self.biases[-1]))\n",
    "        return activations  # 返回所有层的激活值\n",
    "\n",
    "    \n",
    "\n",
    "    def bp(self, x, y):\n",
    "        # 神经网络的反向传播\n",
    "        activations = self.fp(x)  # 获取前向传播的结果\n",
    "        dL_dy = activations[-1] - y  # 计算输出层的误差的偏导数\n",
    "        gradients_w = []  # 存储权重的梯度\n",
    "        gradients_b = []  # 存储偏置的梯度\n",
    "\n",
    "        # 从输出层到输入层反向遍历每一层\n",
    "        for i in range(len(self.weights) - 1, -1, -1):\n",
    "            # 计算激活值对加权输入的偏导数\n",
    "            da_dz = self.sigmoid_derivative(activations[i+1])\n",
    "            # 应用链式法则更新偏导数\n",
    "            if i != len(self.weights) - 1:\n",
    "                dL_dz = dL_dy * da_dz\n",
    "            else:\n",
    "                dL_dz = dL_dy  # 对于输出层，偏导数就是dL_dy\n",
    "            grad_w = activations[i].T.dot(dL_dz)  # 计算权重的梯度\n",
    "            grad_b = np.sum(dL_dz, axis=0, keepdims=True)  # 计算偏置的梯度\n",
    "            gradients_w.append(grad_w)  # 添加权重梯度\n",
    "            gradients_b.append(grad_b)  # 添加偏置梯度\n",
    "            # 更新偏导数传播到前一层\n",
    "            if i != 0:\n",
    "                dL_dy = dL_dz.dot(self.weights[i].T)\n",
    "\n",
    "        gradients_w.reverse()  # 反转梯度列表\n",
    "        gradients_b.reverse()  # 反转梯度列表\n",
    "\n",
    "        # 计算分类正确性\n",
    "        predictions = self.predict(x)\n",
    "        predicted_classes = np.argmax(predictions, axis=1)\n",
    "        true_classes = np.argmax(y, axis=1)\n",
    "        samples_tf_bp = predicted_classes != true_classes  # 标记分类错误的样本\n",
    "\n",
    "        return gradients_w, gradients_b, samples_tf_bp  # 返回梯度和分类正确的样本信息\n",
    "\n",
    "\n",
    "    def train(self, x, y, update_weights=True):\n",
    "        # 训练神经网络\n",
    "        losses = []  # 用于存储每批次的损失\n",
    "        num_batches = x.shape[0] // self.batch_size\n",
    "        samples_ft = np.ones(x.shape[0], dtype=bool)  # 初始化为所有样本都分类正确\n",
    "\n",
    "        with tqdm(total=num_batches, desc=\"Training\", unit=\"batch\") as pbar:\n",
    "            for i in range(0, x.shape[0], self.batch_size):\n",
    "                x_batch = x[i:i + self.batch_size]  # 获取一批训练数据\n",
    "                y_batch = y[i:i + self.batch_size]  # 获取一批训练标签\n",
    "                gradients_w, gradients_b, batch_errors = self.bp(x_batch, y_batch)  # 执行反向传播\n",
    "\n",
    "                if update_weights:\n",
    "                    self.optimizer.update_parameters(self, gradients_w, gradients_b)  # 更新权重和偏置\n",
    "\n",
    "                samples_ft[i:i + self.batch_size] = ~batch_errors  # 更新该批次的样本分类正确性\n",
    "\n",
    "                y_pred = self.predict(x_batch)  # 进行预测\n",
    "                loss = self.cross_entropy_loss(y_pred, y_batch)  # 计算损失\n",
    "                losses.append(loss)  # 添加损失\n",
    "\n",
    "                pbar.update(1)\n",
    "                pbar.set_postfix(loss=np.mean(losses))  # 显示当前批次的损失\n",
    "\n",
    "        return samples_ft  # 返回分类正确的样本信息\n",
    "\n",
    "\n",
    "    def cross_entropy_loss(self, y_pred, y_true):\n",
    "        # 交叉熵损失函数\n",
    "        m = y_true.shape[0]  # 获取样本数量\n",
    "        loss = -np.sum(y_true * np.log(y_pred + 1e-9)) / m  # 计算交叉熵损失\n",
    "        return loss\n",
    "\n",
    "    def predict(self, input):\n",
    "        # 预测函数\n",
    "        return self.fp(input)[-1]  # 返回最后一层的激活值，即预测结果\n",
    "\n",
    "    def evaluate_accuracy(self, x, y):\n",
    "        # 评估模型准确率\n",
    "        predictions = self.predict(x)  # 获取预测结果\n",
    "        predicted_classes = np.argmax(predictions, axis=1)  # 获取预测的类别\n",
    "        true_classes = np.argmax(y, axis=1)  # 获取真实的类别\n",
    "        return np.mean(predicted_classes == true_classes)  # 计算准确率\n",
    "    \n",
    "    \n"
   ]
  },
  {
   "cell_type": "code",
   "execution_count": 5,
   "metadata": {},
   "outputs": [],
   "source": [
    "def weighted_resampling(data, labels, probabilities, num_samples=None):\n",
    "    \"\"\"\n",
    "    对数据进行加权重采样。\n",
    "\n",
    "    :param data: 原始数据集\n",
    "    :param labels: 数据集对应的标签\n",
    "    :param probabilities: 每个样本的采样概率\n",
    "    :param num_samples: 重采样的样本数量，默认为原始数据集的大小\n",
    "    :return: 重采样后的数据和标签\n",
    "    \"\"\"\n",
    "    if num_samples is None:\n",
    "        num_samples = len(data)\n",
    "\n",
    "    # 根据概率进行加权随机抽样\n",
    "    sample_indices = np.random.choice(np.arange(len(data)), size=num_samples, p=probabilities)\n",
    "\n",
    "    # 根据抽取的索引创建重采样后的数据集\n",
    "    resampled_data = data[sample_indices]\n",
    "    resampled_labels = labels[sample_indices]\n",
    "\n",
    "    return resampled_data, resampled_labels\n",
    "\n"
   ]
  },
  {
   "cell_type": "code",
   "execution_count": 6,
   "metadata": {},
   "outputs": [
    {
     "name": "stdout",
     "output_type": "stream",
     "text": [
      "总样本数: 70000 训练集大小: 60000 测试集大小: 10000\n",
      "学习率: 0.01, batch_size: 32\n",
      "隐藏层的层数: 1\n",
      "隐藏层 1 的神经元个数: 15\n"
     ]
    }
   ],
   "source": [
    "# 加载 MNIST 数据集\n",
    "train_images, train_labels, test_images, test_labels = load_mnist()\n",
    "\n",
    "# 显示总样本数，训练集和测试集的大小\n",
    "total_samples = train_images.shape[0] + test_images.shape[0]\n",
    "train_size = train_images.shape[0]\n",
    "test_size = test_images.shape[0]\n",
    "\n",
    "print(f\"总样本数: {total_samples}\", f\"训练集大小: {train_size}\", f\"测试集大小: {test_size}\")\n",
    "\n",
    "\n",
    "num_samples = len(train_images)\n",
    "weights_0 = np.ones(num_samples) / num_samples  # 初始化样本权重\n",
    "\n",
    "# 使用函数进行重采样\n",
    "\n",
    "\n",
    "epoch_num = 2\n",
    "learning_rate = 0.01\n",
    "batch_size = 32\n",
    "\n",
    "\n",
    "print(f\"学习率: {learning_rate}, batch_size: {batch_size}\")\n",
    "# 创建神经网络实例\n",
    "layer_sizes = [784, 15, 10]\n",
    "\n",
    "\n",
    "# 显示隐藏层的层数以及每层神经元的个数\n",
    "num_hidden_layers = len(layer_sizes) - 2  # 输入层和输出层之外的层数\n",
    "print(f\"隐藏层的层数: {num_hidden_layers}\")\n",
    "for i, size in enumerate(layer_sizes[1:-1], start=1):\n",
    "    print(f\"隐藏层 {i} 的神经元个数: {size}\")"
   ]
  },
  {
   "cell_type": "code",
   "execution_count": 7,
   "metadata": {},
   "outputs": [
    {
     "name": "stdout",
     "output_type": "stream",
     "text": [
      "------第1个分类器------\n"
     ]
    },
    {
     "name": "stderr",
     "output_type": "stream",
     "text": [
      "Training: 100%|██████████| 1875/1875 [00:03<00:00, 555.76batch/s, loss=0.566]\n"
     ]
    },
    {
     "name": "stdout",
     "output_type": "stream",
     "text": [
      "正确样本个数:  49838\n",
      "错误样本个数:  10162\n",
      "当前错误率: 0.1694\n"
     ]
    },
    {
     "name": "stderr",
     "output_type": "stream",
     "text": [
      "Training: 100%|██████████| 1875/1875 [00:03<00:00, 562.14batch/s, loss=0.274]\n"
     ]
    },
    {
     "name": "stdout",
     "output_type": "stream",
     "text": [
      "正确样本个数:  54919\n",
      "错误样本个数:  5081\n",
      "当前错误率: 0.0847\n",
      "最终训练准确率: 0.9181\n",
      "最终测试准确率: 0.9113\n",
      "------------------------------------------------\n",
      "当前Adaboost算法输出的最终准确率: 0.9181\n",
      "------第2个分类器------\n"
     ]
    },
    {
     "name": "stderr",
     "output_type": "stream",
     "text": [
      "Training: 100%|██████████| 1875/1875 [00:03<00:00, 574.99batch/s, loss=0.237]\n"
     ]
    },
    {
     "name": "stdout",
     "output_type": "stream",
     "text": [
      "正确样本个数:  55520\n",
      "错误样本个数:  4480\n",
      "当前错误率: 0.0747\n"
     ]
    },
    {
     "name": "stderr",
     "output_type": "stream",
     "text": [
      "Training: 100%|██████████| 1875/1875 [00:03<00:00, 554.08batch/s, loss=0.203]\n"
     ]
    },
    {
     "name": "stdout",
     "output_type": "stream",
     "text": [
      "正确样本个数:  56133\n",
      "错误样本个数:  3867\n",
      "当前错误率: 0.0644\n",
      "最终训练准确率: 0.9333\n",
      "最终测试准确率: 0.9273\n",
      "------------------------------------------------\n",
      "当前Adaboost算法输出的最终准确率: 0.9372\n",
      "------第3个分类器------\n"
     ]
    },
    {
     "name": "stderr",
     "output_type": "stream",
     "text": [
      "Training: 100%|██████████| 1875/1875 [00:03<00:00, 522.91batch/s, loss=0.208]\n"
     ]
    },
    {
     "name": "stdout",
     "output_type": "stream",
     "text": [
      "正确样本个数:  56094\n",
      "错误样本个数:  3906\n",
      "当前错误率: 0.0651\n"
     ]
    },
    {
     "name": "stderr",
     "output_type": "stream",
     "text": [
      "Training: 100%|██████████| 1875/1875 [00:03<00:00, 475.97batch/s, loss=0.187]\n"
     ]
    },
    {
     "name": "stdout",
     "output_type": "stream",
     "text": [
      "正确样本个数:  56468\n",
      "错误样本个数:  3532\n",
      "当前错误率: 0.0589\n",
      "最终训练准确率: 0.9402\n",
      "最终测试准确率: 0.9315\n",
      "------------------------------------------------\n",
      "当前Adaboost算法输出的最终准确率: 0.9455\n",
      "------第4个分类器------\n"
     ]
    },
    {
     "name": "stderr",
     "output_type": "stream",
     "text": [
      "Training: 100%|██████████| 1875/1875 [00:04<00:00, 452.81batch/s, loss=0.196]\n"
     ]
    },
    {
     "name": "stdout",
     "output_type": "stream",
     "text": [
      "正确样本个数:  56268\n",
      "错误样本个数:  3732\n",
      "当前错误率: 0.0622\n"
     ]
    },
    {
     "name": "stderr",
     "output_type": "stream",
     "text": [
      "Training: 100%|██████████| 1875/1875 [00:03<00:00, 472.41batch/s, loss=0.176]\n"
     ]
    },
    {
     "name": "stdout",
     "output_type": "stream",
     "text": [
      "正确样本个数:  56638\n",
      "错误样本个数:  3362\n",
      "当前错误率: 0.0560\n",
      "最终训练准确率: 0.9395\n",
      "最终测试准确率: 0.9322\n",
      "------------------------------------------------\n",
      "当前Adaboost算法输出的最终准确率: 0.9487\n",
      "------第5个分类器------\n"
     ]
    },
    {
     "name": "stderr",
     "output_type": "stream",
     "text": [
      "Training: 100%|██████████| 1875/1875 [00:03<00:00, 470.37batch/s, loss=0.181]\n"
     ]
    },
    {
     "name": "stdout",
     "output_type": "stream",
     "text": [
      "正确样本个数:  56578\n",
      "错误样本个数:  3422\n",
      "当前错误率: 0.0570\n"
     ]
    },
    {
     "name": "stderr",
     "output_type": "stream",
     "text": [
      "Training: 100%|██████████| 1875/1875 [00:03<00:00, 540.73batch/s, loss=0.165]\n"
     ]
    },
    {
     "name": "stdout",
     "output_type": "stream",
     "text": [
      "正确样本个数:  56821\n",
      "错误样本个数:  3179\n",
      "当前错误率: 0.0530\n",
      "最终训练准确率: 0.9453\n",
      "最终测试准确率: 0.9344\n",
      "------------------------------------------------\n",
      "当前Adaboost算法输出的最终准确率: 0.9525\n",
      "------第6个分类器------\n"
     ]
    },
    {
     "name": "stderr",
     "output_type": "stream",
     "text": [
      "Training: 100%|██████████| 1875/1875 [00:03<00:00, 619.84batch/s, loss=0.177]\n"
     ]
    },
    {
     "name": "stdout",
     "output_type": "stream",
     "text": [
      "正确样本个数:  56719\n",
      "错误样本个数:  3281\n",
      "当前错误率: 0.0547\n"
     ]
    },
    {
     "name": "stderr",
     "output_type": "stream",
     "text": [
      "Training: 100%|██████████| 1875/1875 [00:02<00:00, 633.65batch/s, loss=0.161]\n"
     ]
    },
    {
     "name": "stdout",
     "output_type": "stream",
     "text": [
      "正确样本个数:  56973\n",
      "错误样本个数:  3027\n",
      "当前错误率: 0.0504\n",
      "最终训练准确率: 0.9490\n",
      "最终测试准确率: 0.9368\n",
      "------------------------------------------------\n",
      "当前Adaboost算法输出的最终准确率: 0.9551\n",
      "------第7个分类器------\n"
     ]
    },
    {
     "name": "stderr",
     "output_type": "stream",
     "text": [
      "Training: 100%|██████████| 1875/1875 [00:02<00:00, 625.96batch/s, loss=0.17] \n"
     ]
    },
    {
     "name": "stdout",
     "output_type": "stream",
     "text": [
      "正确样本个数:  56833\n",
      "错误样本个数:  3167\n",
      "当前错误率: 0.0528\n"
     ]
    },
    {
     "name": "stderr",
     "output_type": "stream",
     "text": [
      "Training: 100%|██████████| 1875/1875 [00:02<00:00, 641.50batch/s, loss=0.16] \n"
     ]
    },
    {
     "name": "stdout",
     "output_type": "stream",
     "text": [
      "正确样本个数:  56991\n",
      "错误样本个数:  3009\n",
      "当前错误率: 0.0502\n",
      "最终训练准确率: 0.9475\n",
      "最终测试准确率: 0.9344\n",
      "------------------------------------------------\n",
      "当前Adaboost算法输出的最终准确率: 0.9564\n",
      "------第8个分类器------\n"
     ]
    },
    {
     "name": "stderr",
     "output_type": "stream",
     "text": [
      "Training: 100%|██████████| 1875/1875 [00:03<00:00, 608.37batch/s, loss=0.164]\n"
     ]
    },
    {
     "name": "stdout",
     "output_type": "stream",
     "text": [
      "正确样本个数:  56872\n",
      "错误样本个数:  3128\n",
      "当前错误率: 0.0521\n"
     ]
    },
    {
     "name": "stderr",
     "output_type": "stream",
     "text": [
      "Training: 100%|██████████| 1875/1875 [00:02<00:00, 636.88batch/s, loss=0.152]\n"
     ]
    },
    {
     "name": "stdout",
     "output_type": "stream",
     "text": [
      "正确样本个数:  57047\n",
      "错误样本个数:  2953\n",
      "当前错误率: 0.0492\n",
      "最终训练准确率: 0.9465\n",
      "最终测试准确率: 0.9323\n",
      "------------------------------------------------\n",
      "当前Adaboost算法输出的最终准确率: 0.9581\n",
      "------第9个分类器------\n"
     ]
    },
    {
     "name": "stderr",
     "output_type": "stream",
     "text": [
      "Training: 100%|██████████| 1875/1875 [00:02<00:00, 638.82batch/s, loss=0.159]\n"
     ]
    },
    {
     "name": "stdout",
     "output_type": "stream",
     "text": [
      "正确样本个数:  56937\n",
      "错误样本个数:  3063\n",
      "当前错误率: 0.0511\n"
     ]
    },
    {
     "name": "stderr",
     "output_type": "stream",
     "text": [
      "Training: 100%|██████████| 1875/1875 [00:02<00:00, 626.05batch/s, loss=0.148]\n"
     ]
    },
    {
     "name": "stdout",
     "output_type": "stream",
     "text": [
      "正确样本个数:  57197\n",
      "错误样本个数:  2803\n",
      "当前错误率: 0.0467\n",
      "最终训练准确率: 0.9492\n",
      "最终测试准确率: 0.9344\n",
      "------------------------------------------------\n",
      "当前Adaboost算法输出的最终准确率: 0.9593\n",
      "------第10个分类器------\n"
     ]
    },
    {
     "name": "stderr",
     "output_type": "stream",
     "text": [
      "Training: 100%|██████████| 1875/1875 [00:02<00:00, 637.95batch/s, loss=0.152]\n"
     ]
    },
    {
     "name": "stdout",
     "output_type": "stream",
     "text": [
      "正确样本个数:  57137\n",
      "错误样本个数:  2863\n",
      "当前错误率: 0.0477\n"
     ]
    },
    {
     "name": "stderr",
     "output_type": "stream",
     "text": [
      "Training: 100%|██████████| 1875/1875 [00:02<00:00, 639.32batch/s, loss=0.142]\n"
     ]
    },
    {
     "name": "stdout",
     "output_type": "stream",
     "text": [
      "正确样本个数:  57285\n",
      "错误样本个数:  2715\n",
      "当前错误率: 0.0452\n",
      "最终训练准确率: 0.9533\n",
      "最终测试准确率: 0.9387\n",
      "------------------------------------------------\n",
      "当前Adaboost算法输出的最终准确率: 0.9605\n",
      "------第11个分类器------\n"
     ]
    },
    {
     "name": "stderr",
     "output_type": "stream",
     "text": [
      "Training: 100%|██████████| 1875/1875 [00:02<00:00, 641.80batch/s, loss=0.145]\n"
     ]
    },
    {
     "name": "stdout",
     "output_type": "stream",
     "text": [
      "正确样本个数:  57222\n",
      "错误样本个数:  2778\n",
      "当前错误率: 0.0463\n"
     ]
    },
    {
     "name": "stderr",
     "output_type": "stream",
     "text": [
      "Training: 100%|██████████| 1875/1875 [00:02<00:00, 642.13batch/s, loss=0.136]\n"
     ]
    },
    {
     "name": "stdout",
     "output_type": "stream",
     "text": [
      "正确样本个数:  57384\n",
      "错误样本个数:  2616\n",
      "当前错误率: 0.0436\n",
      "最终训练准确率: 0.9556\n",
      "最终测试准确率: 0.9381\n",
      "------------------------------------------------\n",
      "当前Adaboost算法输出的最终准确率: 0.9620\n",
      "------第12个分类器------\n"
     ]
    },
    {
     "name": "stderr",
     "output_type": "stream",
     "text": [
      "Training: 100%|██████████| 1875/1875 [00:02<00:00, 641.32batch/s, loss=0.143]\n"
     ]
    },
    {
     "name": "stdout",
     "output_type": "stream",
     "text": [
      "正确样本个数:  57220\n",
      "错误样本个数:  2780\n",
      "当前错误率: 0.0463\n"
     ]
    },
    {
     "name": "stderr",
     "output_type": "stream",
     "text": [
      "Training: 100%|██████████| 1875/1875 [00:02<00:00, 631.27batch/s, loss=0.132]\n"
     ]
    },
    {
     "name": "stdout",
     "output_type": "stream",
     "text": [
      "正确样本个数:  57477\n",
      "错误样本个数:  2523\n",
      "当前错误率: 0.0421\n",
      "最终训练准确率: 0.9535\n",
      "最终测试准确率: 0.9385\n",
      "------------------------------------------------\n",
      "当前Adaboost算法输出的最终准确率: 0.9629\n",
      "------第13个分类器------\n"
     ]
    },
    {
     "name": "stderr",
     "output_type": "stream",
     "text": [
      "Training: 100%|██████████| 1875/1875 [00:02<00:00, 636.80batch/s, loss=0.144]\n"
     ]
    },
    {
     "name": "stdout",
     "output_type": "stream",
     "text": [
      "正确样本个数:  57203\n",
      "错误样本个数:  2797\n",
      "当前错误率: 0.0466\n"
     ]
    },
    {
     "name": "stderr",
     "output_type": "stream",
     "text": [
      "Training: 100%|██████████| 1875/1875 [00:02<00:00, 628.72batch/s, loss=0.13] \n"
     ]
    },
    {
     "name": "stdout",
     "output_type": "stream",
     "text": [
      "正确样本个数:  57506\n",
      "错误样本个数:  2494\n",
      "当前错误率: 0.0416\n",
      "最终训练准确率: 0.9581\n",
      "最终测试准确率: 0.9415\n",
      "------------------------------------------------\n",
      "当前Adaboost算法输出的最终准确率: 0.9637\n",
      "------第14个分类器------\n"
     ]
    },
    {
     "name": "stderr",
     "output_type": "stream",
     "text": [
      "Training: 100%|██████████| 1875/1875 [00:02<00:00, 626.54batch/s, loss=0.138]\n"
     ]
    },
    {
     "name": "stdout",
     "output_type": "stream",
     "text": [
      "正确样本个数:  57433\n",
      "错误样本个数:  2567\n",
      "当前错误率: 0.0428\n"
     ]
    },
    {
     "name": "stderr",
     "output_type": "stream",
     "text": [
      "Training: 100%|██████████| 1875/1875 [00:03<00:00, 621.30batch/s, loss=0.128]\n"
     ]
    },
    {
     "name": "stdout",
     "output_type": "stream",
     "text": [
      "正确样本个数:  57489\n",
      "错误样本个数:  2511\n",
      "当前错误率: 0.0418\n",
      "最终训练准确率: 0.9581\n",
      "最终测试准确率: 0.9379\n",
      "------------------------------------------------\n",
      "当前Adaboost算法输出的最终准确率: 0.9644\n",
      "------第15个分类器------\n"
     ]
    },
    {
     "name": "stderr",
     "output_type": "stream",
     "text": [
      "Training: 100%|██████████| 1875/1875 [00:02<00:00, 636.75batch/s, loss=0.145]\n"
     ]
    },
    {
     "name": "stdout",
     "output_type": "stream",
     "text": [
      "正确样本个数:  57229\n",
      "错误样本个数:  2771\n",
      "当前错误率: 0.0462\n"
     ]
    },
    {
     "name": "stderr",
     "output_type": "stream",
     "text": [
      "Training: 100%|██████████| 1875/1875 [00:02<00:00, 626.41batch/s, loss=0.134]\n"
     ]
    },
    {
     "name": "stdout",
     "output_type": "stream",
     "text": [
      "正确样本个数:  57436\n",
      "错误样本个数:  2564\n",
      "当前错误率: 0.0427\n",
      "最终训练准确率: 0.9557\n",
      "最终测试准确率: 0.9371\n",
      "------------------------------------------------\n",
      "当前Adaboost算法输出的最终准确率: 0.9651\n",
      "------第16个分类器------\n"
     ]
    },
    {
     "name": "stderr",
     "output_type": "stream",
     "text": [
      "Training: 100%|██████████| 1875/1875 [00:02<00:00, 640.16batch/s, loss=0.132]\n"
     ]
    },
    {
     "name": "stdout",
     "output_type": "stream",
     "text": [
      "正确样本个数:  57436\n",
      "错误样本个数:  2564\n",
      "当前错误率: 0.0427\n"
     ]
    },
    {
     "name": "stderr",
     "output_type": "stream",
     "text": [
      "Training: 100%|██████████| 1875/1875 [00:03<00:00, 605.24batch/s, loss=0.123]\n"
     ]
    },
    {
     "name": "stdout",
     "output_type": "stream",
     "text": [
      "正确样本个数:  57591\n",
      "错误样本个数:  2409\n",
      "当前错误率: 0.0402\n",
      "最终训练准确率: 0.9589\n",
      "最终测试准确率: 0.9394\n",
      "------------------------------------------------\n",
      "当前Adaboost算法输出的最终准确率: 0.9660\n",
      "------第17个分类器------\n"
     ]
    },
    {
     "name": "stderr",
     "output_type": "stream",
     "text": [
      "Training: 100%|██████████| 1875/1875 [00:03<00:00, 623.36batch/s, loss=0.134]\n"
     ]
    },
    {
     "name": "stdout",
     "output_type": "stream",
     "text": [
      "正确样本个数:  57438\n",
      "错误样本个数:  2562\n",
      "当前错误率: 0.0427\n"
     ]
    },
    {
     "name": "stderr",
     "output_type": "stream",
     "text": [
      "Training: 100%|██████████| 1875/1875 [00:03<00:00, 621.23batch/s, loss=0.122]\n"
     ]
    },
    {
     "name": "stdout",
     "output_type": "stream",
     "text": [
      "正确样本个数:  57627\n",
      "错误样本个数:  2373\n",
      "当前错误率: 0.0395\n",
      "最终训练准确率: 0.9597\n",
      "最终测试准确率: 0.9390\n",
      "------------------------------------------------\n",
      "当前Adaboost算法输出的最终准确率: 0.9664\n",
      "------第18个分类器------\n"
     ]
    },
    {
     "name": "stderr",
     "output_type": "stream",
     "text": [
      "Training: 100%|██████████| 1875/1875 [00:03<00:00, 581.56batch/s, loss=0.128]\n"
     ]
    },
    {
     "name": "stdout",
     "output_type": "stream",
     "text": [
      "正确样本个数:  57508\n",
      "错误样本个数:  2492\n",
      "当前错误率: 0.0415\n"
     ]
    },
    {
     "name": "stderr",
     "output_type": "stream",
     "text": [
      "Training: 100%|██████████| 1875/1875 [00:03<00:00, 570.14batch/s, loss=0.116]\n"
     ]
    },
    {
     "name": "stdout",
     "output_type": "stream",
     "text": [
      "正确样本个数:  57759\n",
      "错误样本个数:  2241\n",
      "当前错误率: 0.0373\n",
      "最终训练准确率: 0.9585\n",
      "最终测试准确率: 0.9393\n",
      "------------------------------------------------\n",
      "当前Adaboost算法输出的最终准确率: 0.9670\n",
      "------第19个分类器------\n"
     ]
    },
    {
     "name": "stderr",
     "output_type": "stream",
     "text": [
      "Training: 100%|██████████| 1875/1875 [00:03<00:00, 618.54batch/s, loss=0.123]\n"
     ]
    },
    {
     "name": "stdout",
     "output_type": "stream",
     "text": [
      "正确样本个数:  57595\n",
      "错误样本个数:  2405\n",
      "当前错误率: 0.0401\n"
     ]
    },
    {
     "name": "stderr",
     "output_type": "stream",
     "text": [
      "Training: 100%|██████████| 1875/1875 [00:03<00:00, 608.14batch/s, loss=0.113]\n"
     ]
    },
    {
     "name": "stdout",
     "output_type": "stream",
     "text": [
      "正确样本个数:  57774\n",
      "错误样本个数:  2226\n",
      "当前错误率: 0.0371\n",
      "最终训练准确率: 0.9617\n",
      "最终测试准确率: 0.9410\n",
      "------------------------------------------------\n",
      "当前Adaboost算法输出的最终准确率: 0.9676\n",
      "------第20个分类器------\n"
     ]
    },
    {
     "name": "stderr",
     "output_type": "stream",
     "text": [
      "Training: 100%|██████████| 1875/1875 [00:03<00:00, 616.40batch/s, loss=0.125]\n"
     ]
    },
    {
     "name": "stdout",
     "output_type": "stream",
     "text": [
      "正确样本个数:  57603\n",
      "错误样本个数:  2397\n",
      "当前错误率: 0.0399\n"
     ]
    },
    {
     "name": "stderr",
     "output_type": "stream",
     "text": [
      "Training: 100%|██████████| 1875/1875 [00:03<00:00, 618.45batch/s, loss=0.117]\n"
     ]
    },
    {
     "name": "stdout",
     "output_type": "stream",
     "text": [
      "正确样本个数:  57732\n",
      "错误样本个数:  2268\n",
      "当前错误率: 0.0378\n",
      "最终训练准确率: 0.9593\n",
      "最终测试准确率: 0.9406\n",
      "------------------------------------------------\n",
      "当前Adaboost算法输出的最终准确率: 0.9681\n"
     ]
    },
    {
     "data": {
      "image/png": "[encoded data removed]",
      "text/plain": [
       "<Figure size 640x480 with 1 Axes>"
      ]
     },
     "metadata": {},
     "output_type": "display_data"
    }
   ],
   "source": [
    "num_classifier = 20\n",
    "samples_ft = np.ones((num_classifier, num_samples),dtype=bool)\n",
    "weights = np.ones((num_classifier+1, num_samples))\n",
    "weights[1,:] = np.ones(num_samples) / num_samples\n",
    "num_correct = []\n",
    "num_incorrect = []\n",
    "epsilon = []\n",
    "alpha = []\n",
    "final_train_accuracy = []\n",
    "final_test_accuracy = []\n",
    "classifiers = []  # 存储每个分类器\n",
    "final_combined_output = np.zeros((num_samples, 10))  # 初始化最终组合输出\n",
    "final_train_accuracy_list = []\n",
    "\n",
    "nn = SimpleNeuralNetwork(layer_sizes, learning_rate=learning_rate, batch_size= batch_size)\n",
    "\n",
    "# 训练循环\n",
    "for i in range(num_classifier):\n",
    "    print(f'------第{i+1}个分类器------')\n",
    "    # 使用函数进行重采样\n",
    "    probabilities = weights[i, :] / np.sum(weights[i, :])\n",
    "\n",
    "    resampled_train_images, resampled_train_labels = weighted_resampling(train_images, train_labels, probabilities)\n",
    "    train_accuracies = []  # 用于存储每轮训练的准确率\n",
    "    test_accuracies = []   # 用于存储每轮测试的准确率\n",
    "\n",
    "    for epoch in range(epoch_num):  # 进行迭代\n",
    "        \n",
    "        samples_ft[i,:] = nn.train(resampled_train_images, resampled_train_labels)  # 训练神经网络\n",
    "        classifiers.append(nn)\n",
    "        \n",
    "        num_correct.append(np.count_nonzero(samples_ft[i,:]))\n",
    "        num_incorrect.append(len(samples_ft[i,:]) - num_correct[-1])\n",
    "        print('正确样本个数: ', num_correct[-1])\n",
    "        print('错误样本个数: ', num_incorrect[-1])\n",
    "\n",
    "        train_accuracy = nn.evaluate_accuracy(train_images, train_labels)  # 计算训练准确率\n",
    "        test_accuracy = nn.evaluate_accuracy(test_images, test_labels)  # 计算测试准确率\n",
    "        train_accuracies.append(train_accuracy)  # 记录训练准确率\n",
    "        test_accuracies.append(test_accuracy)  # 记录测试准确率\n",
    "        # print(f'Epoch {epoch + 1}/{epoch_num}, Train Accuracy: {train_accuracy:.4f}, Test Accuracy: {test_accuracy:.4f}')\n",
    "        \n",
    "        original_samples_ft = samples_ft[i,:].copy()\n",
    "        epsilon.append(1 - np.sum(weights[i,:][original_samples_ft]) / np.sum(weights[i,:]))\n",
    "        print(f'当前错误率: {epsilon[-1]:.4f}')\n",
    "        \n",
    "        alpha.append(0.5 * np.log((1 - epsilon[-1]) / epsilon[-1]))\n",
    "        samples_ft[i,:] = np.where(samples_ft[i,:], 1, -1)\n",
    "        for j in range(num_samples):\n",
    "            weights[i+1,j] = weights[i,j]*np.exp(alpha[-1]*samples_ft[i,j])\n",
    "\n",
    "\n",
    "        final_train_accuracy.append(nn.evaluate_accuracy(train_images, train_labels))\n",
    "        final_test_accuracy.append(nn.evaluate_accuracy(test_images, test_labels))\n",
    "\n",
    "    print(f'最终训练准确率: {final_train_accuracy[-1]:.4f}')\n",
    "    print(f'最终测试准确率: {final_test_accuracy[-1]:.4f}')\n",
    "\n",
    "    predictions = classifiers[-1].predict(train_images)  # 这里假设predict返回的是softmax的输出\n",
    "    final_combined_output += alpha[i] * predictions\n",
    "    final_predictions = np.argmax(final_combined_output, axis=1)\n",
    "\n",
    "    train_labels_1 = np.argmax(train_labels, axis=1)\n",
    "\n",
    "    final_train_accuracy_1 = np.mean(final_predictions == train_labels_1)\n",
    "    final_train_accuracy_list.append(final_train_accuracy_1)\n",
    "    print('------------------------------------------------')\n",
    "    print(f'当前Adaboost算法输出的最终准确率: {final_train_accuracy_1:.4f}')\n",
    "\n",
    "\n",
    "plt.plot(range(1, num_classifier + 1), final_train_accuracy_list, marker='o')\n",
    "plt.xlabel('Number of Classifiers')\n",
    "plt.ylabel('Final Training Accuracy')\n",
    "plt.title('Final Training Accuracy vs Number of Classifiers')\n",
    "plt.xticks(range(1, num_classifier + 1))\n",
    "plt.grid(True)\n",
    "plt.show()\n"
   ]
  },
  {
   "cell_type": "code",
   "execution_count": null,
   "metadata": {},
   "outputs": [],
   "source": []
  }
 ],
 "metadata": {
  "kernelspec": {
   "display_name": "base",
   "language": "python",
   "name": "python3"
  },
  "language_info": {
   "codemirror_mode": {
    "name": "ipython",
    "version": 3
   },
   "file_extension": ".py",
   "mimetype": "text/x-python",
   "name": "python",
   "nbconvert_exporter": "python",
   "pygments_lexer": "ipython3",
   "version": "3.9.13"
  }
 },
 "nbformat": 4,
 "nbformat_minor": 2
}
