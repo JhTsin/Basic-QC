{
 "cells": [
  {
   "cell_type": "code",
   "execution_count": 12,
   "metadata": {},
   "outputs": [],
   "source": [
    "import numpy as np"
   ]
  },
  {
   "cell_type": "code",
   "execution_count": 13,
   "metadata": {},
   "outputs": [],
   "source": [
    "def GetHam3(LabelNumber, g):\n",
    "    # Define Pauli matrices\n",
    "    sx = np.array([[0, 1], [1, 0]], dtype=complex)\n",
    "    sy = np.array([[0, -1j], [1j, 0]], dtype=complex)\n",
    "    sz = np.array([[1, 0], [0, -1]], dtype=complex)\n",
    "\n",
    "    # Determine the number of qubits\n",
    "    nq = int(np.floor(np.log2(LabelNumber)) + 1)\n",
    "\n",
    "    # Initialize state at ground state |0...0>\n",
    "    QS = {'psi0': np.zeros(2**nq, dtype=complex)}\n",
    "    QS['psi0'][0] = 1  \n",
    "\n",
    "    # Measurement Operators for labels\n",
    "    QS['M'] = []\n",
    "    EYE1 = np.eye(2**nq, dtype=complex)\n",
    "    for k in range(LabelNumber):\n",
    "        ek = EYE1[:, k]\n",
    "        QS['M'].append(np.outer(ek, ek.conj()))\n",
    "\n",
    "    # Control Hamiltonians\n",
    "    QS['Hc'] = []\n",
    "    for k in range(nq):\n",
    "        EYE1 = np.eye(2**max(0, k - 1), dtype=complex)\n",
    "        EYE2 = np.eye(2**max(0, nq - k), dtype=complex)\n",
    "        QS['Hc'].append(np.kron(np.kron(EYE1, sx), EYE2))\n",
    "        QS['Hc'].append(np.kron(np.kron(EYE1, sy), EYE2))\n",
    "\n",
    "    # N operators\n",
    "    QS['N'] = []\n",
    "    for k in range(nq):\n",
    "        EYE1 = np.eye(2**max(0, k - 1), dtype=complex)\n",
    "        EYE2 = np.eye(2**max(0, nq - k), dtype=complex)\n",
    "        QS['N'].append(np.kron(np.kron(EYE1, sz), EYE2))\n",
    "\n",
    "    # Drift Hamiltonian\n",
    "    QS['Delta'] = []\n",
    "    QS['H0'] = np.zeros((2**nq, 2**nq), dtype=complex)\n",
    "    for a in range(nq - 1):\n",
    "        for b in range(a + 1, nq):\n",
    "            if g[a, b] != 0:\n",
    "                EYE1 = np.eye(2**max(0, a - 1), dtype=complex)\n",
    "                EYE2 = np.eye(2**max(0, b - a - 1), dtype=complex)\n",
    "                EYE3 = np.eye(2**max(0, nq - b), dtype=complex)\n",
    "                temp = np.kron(EYE1, sz)\n",
    "                temp = np.kron(temp, EYE2)\n",
    "                temp = np.kron(temp, sz)\n",
    "                temp = np.kron(temp, EYE3)\n",
    "                QS['H0'] += g[a, b] * temp\n",
    "\n",
    "    return QS"
   ]
  },
  {
   "cell_type": "code",
   "execution_count": 14,
   "metadata": {},
   "outputs": [
    {
     "ename": "ValueError",
     "evalue": "operands could not be broadcast together with shapes (16,16) (32,32) (16,16) ",
     "output_type": "error",
     "traceback": [
      "\u001b[1;31m---------------------------------------------------------------------------\u001b[0m",
      "\u001b[1;31mValueError\u001b[0m                                Traceback (most recent call last)",
      "\u001b[1;32m~\\AppData\\Local\\Temp\\ipykernel_21380\\559789114.py\u001b[0m in \u001b[0;36m<module>\u001b[1;34m\u001b[0m\n\u001b[0;32m      4\u001b[0m \u001b[1;33m\u001b[0m\u001b[0m\n\u001b[0;32m      5\u001b[0m \u001b[0mLabelNumber\u001b[0m \u001b[1;33m=\u001b[0m \u001b[1;36m10\u001b[0m  \u001b[1;31m# Replace with actual LabelNumber value\u001b[0m\u001b[1;33m\u001b[0m\u001b[1;33m\u001b[0m\u001b[0m\n\u001b[1;32m----> 6\u001b[1;33m \u001b[0mQS\u001b[0m \u001b[1;33m=\u001b[0m \u001b[0mGetHam3\u001b[0m\u001b[1;33m(\u001b[0m\u001b[0mLabelNumber\u001b[0m\u001b[1;33m,\u001b[0m \u001b[0mg\u001b[0m\u001b[1;33m)\u001b[0m\u001b[1;33m\u001b[0m\u001b[1;33m\u001b[0m\u001b[0m\n\u001b[0m",
      "\u001b[1;32m~\\AppData\\Local\\Temp\\ipykernel_21380\\2125571336.py\u001b[0m in \u001b[0;36mGetHam3\u001b[1;34m(LabelNumber, g)\u001b[0m\n\u001b[0;32m     47\u001b[0m                 \u001b[0mtemp\u001b[0m \u001b[1;33m=\u001b[0m \u001b[0mnp\u001b[0m\u001b[1;33m.\u001b[0m\u001b[0mkron\u001b[0m\u001b[1;33m(\u001b[0m\u001b[0mtemp\u001b[0m\u001b[1;33m,\u001b[0m \u001b[0msz\u001b[0m\u001b[1;33m)\u001b[0m\u001b[1;33m\u001b[0m\u001b[1;33m\u001b[0m\u001b[0m\n\u001b[0;32m     48\u001b[0m                 \u001b[0mtemp\u001b[0m \u001b[1;33m=\u001b[0m \u001b[0mnp\u001b[0m\u001b[1;33m.\u001b[0m\u001b[0mkron\u001b[0m\u001b[1;33m(\u001b[0m\u001b[0mtemp\u001b[0m\u001b[1;33m,\u001b[0m \u001b[0mEYE3\u001b[0m\u001b[1;33m)\u001b[0m\u001b[1;33m\u001b[0m\u001b[1;33m\u001b[0m\u001b[0m\n\u001b[1;32m---> 49\u001b[1;33m                 \u001b[0mQS\u001b[0m\u001b[1;33m[\u001b[0m\u001b[1;34m'H0'\u001b[0m\u001b[1;33m]\u001b[0m \u001b[1;33m+=\u001b[0m \u001b[0mg\u001b[0m\u001b[1;33m[\u001b[0m\u001b[0ma\u001b[0m\u001b[1;33m,\u001b[0m \u001b[0mb\u001b[0m\u001b[1;33m]\u001b[0m \u001b[1;33m*\u001b[0m \u001b[0mtemp\u001b[0m\u001b[1;33m\u001b[0m\u001b[1;33m\u001b[0m\u001b[0m\n\u001b[0m\u001b[0;32m     50\u001b[0m \u001b[1;33m\u001b[0m\u001b[0m\n\u001b[0;32m     51\u001b[0m     \u001b[1;32mreturn\u001b[0m \u001b[0mQS\u001b[0m\u001b[1;33m\u001b[0m\u001b[1;33m\u001b[0m\u001b[0m\n",
      "\u001b[1;31mValueError\u001b[0m: operands could not be broadcast together with shapes (16,16) (32,32) (16,16) "
     ]
    }
   ],
   "source": [
    "nq = 4\n",
    "g_c = [1.5, 2, 2.7, 2.3, 3]\n",
    "g = 2 * np.pi * np.diag(g_c[:nq - 1], k=1)\n",
    "\n",
    "LabelNumber = 10  # Replace with actual LabelNumber value\n",
    "QS = GetHam3(LabelNumber, g)"
   ]
  },
  {
   "cell_type": "code",
   "execution_count": null,
   "metadata": {},
   "outputs": [],
   "source": []
  }
 ],
 "metadata": {
  "kernelspec": {
   "display_name": "base",
   "language": "python",
   "name": "python3"
  },
  "language_info": {
   "codemirror_mode": {
    "name": "ipython",
    "version": 3
   },
   "file_extension": ".py",
   "mimetype": "text/x-python",
   "name": "python",
   "nbconvert_exporter": "python",
   "pygments_lexer": "ipython3",
   "version": "3.9.13"
  }
 },
 "nbformat": 4,
 "nbformat_minor": 2
}
